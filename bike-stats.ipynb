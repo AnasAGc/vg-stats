{
 "cells": [],
 "metadata": {
  "kernelspec": {
   "name": "python3",
   "display_name": "Python 3.9.6 64-bit ('.venv': poetry)"
  },
  "language_info": {
   "codemirror_mode": {
    "name": "ipython",
    "version": 3
   },
   "file_extension": ".py",
   "mimetype": "text/x-python",
   "name": "python",
   "nbconvert_exporter": "python",
   "pygments_lexer": "ipython3",
   "version": "3.9.6"
  },
  "interpreter": {
   "hash": "09c56a765f8270e83b42a5a3d17b596425183071bd039f54ebd40ac5272ff6b8"
  }
 },
 "nbformat": 4,
 "nbformat_minor": 5
}